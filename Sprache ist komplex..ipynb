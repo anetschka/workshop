{
 "cells": [
  {
   "cell_type": "markdown",
   "metadata": {},
   "source": [
    "Dieses Notebook bietet Nicht-Linguisten Anregungen, sich mit der Komplexität von Sprache auseinander zu setzen. Wir versuchen uns an einigen (für Menschen) ganz alltäglichen \"NLP\"-Tasks. Das Ziel des Experiments besteht darin zu verstehen, warum Sprache so komplex ist."
   ]
  },
  {
   "cell_type": "markdown",
   "metadata": {},
   "source": [
    "1. Wir zerlegen einen Text in Sätze."
   ]
  },
  {
   "cell_type": "code",
   "execution_count": 2,
   "metadata": {},
   "outputs": [],
   "source": [
    "#Textquelle: https://www.zeit.de/2020/39/weisse-schwarze-milizen-waffen-gewalt-rassismus-usa\n",
    "\n",
    "text = \"\"\"Am 7. Juni steht der schwarze Aktivist Hawk Newsome auf dem Times Square in New York vor Hunderten von Demonstranten und sagt: \"Wir sind an einem kritischen Punkt der Geschichte. Entweder ihr gebt schwarzen Menschen ihre Rechte, oder wir brennen dieses Land nieder.\"\n",
    "Hawk Newsome ist der Präsident von Black Lives Matter of Greater New York. Die ZEIT hat ihn in den letzten Jahren immer wieder getroffen und seine Radikalisierung dokumentiert. Den Glauben, dass der Staat den Schwarzen hilft, hat Newsome mittlerweile verloren. Ebenso die Hoffnung, mit friedlichen Protesten etwas daran ändern zu können, dass immer wieder unbewaffnete Schwarze bei der Verhaftung durch Polizisten sterben. Nach dem Tod von George Floyd hatte Newsome sich daher mit einigen ähnlich desillusionierten Aktivisten getroffen und eine neue Strategie entwickelt. Kern davon ist die Bewaffnung.\n",
    "Sogenannte peace officers sollen in schwarzen Wohnvierteln patrouillieren, um die Bewohner vor Polizeigewalt zu beschützen. Newsome nimmt sich ein Beispiel an Malcolm X und den bewaffneten Mitgliedern der Black-Panther-Partei, die in den Sechzigerjahren regelmäßig auf \"cop watch\" gingen. Die ersten Ableger dieser Einheit sollen in Atlanta und in der New Yorker Bronx gegründet werden. Die Miliz hat Newsome \"Black O.P.T.S.\" getauft, eine Anspielung auf den Terminus für verdeckte militärische Operationen und auf das populärste Ego-Shooter-Videospiel (Call of Duty: Black Ops). Bei Newsome steht es für opportunities, Chancen.\n",
    "In der Bronx stehe die Miliz jedoch noch am Anfang, sagt Newsome am Telefon. In New York City ist es nämlich fast unmöglich, einen Waffenschein zu bekommen. Er selbst habe sich gerade um einen beworben, sagt er. Der Prozess ist teuer und kann bis zu ein Jahr dauern. In der Regel braucht man zudem einen sehr guten Grund. In Atlanta, dem Ort für den zweiten Ableger, ist dagegen nichts leichter, als sich eine Waffe zu besorgen. Nahezu jeder über 21 Jahre kann sich im südlichen Bundesstaat Georgia eine Waffe kaufen und offen tragen. Zudem ist es erlaubt, eine Waffe zur Selbstverteidigung einzusetzen. In Atlanta hat der Black-O.P.T.S.-Ableger bereits 100 Mitglieder.\"\"\""
   ]
  },
  {
   "cell_type": "code",
   "execution_count": 2,
   "metadata": {
    "scrolled": true
   },
   "outputs": [
    {
     "data": {
      "text/plain": [
       "'Am 7. Juni steht der schwarze Aktivist Hawk Newsome auf dem Times Square in New York vor Hunderten von Demonstranten und sagt: \"Wir sind an einem kritischen Punkt der Geschichte. Entweder ihr gebt schwarzen Menschen ihre Rechte, oder wir brennen dieses Land nieder.\"\\nHawk Newsome ist der Präsident von Black Lives Matter of Greater New York. Die ZEIT hat ihn in den letzten Jahren immer wieder getroffen und seine Radikalisierung dokumentiert. Den Glauben, dass der Staat den Schwarzen hilft, hat Newsome mittlerweile verloren. Ebenso die Hoffnung, mit friedlichen Protesten etwas daran ändern zu können, dass immer wieder unbewaffnete Schwarze bei der Verhaftung durch Polizisten sterben. Nach dem Tod von George Floyd hatte Newsome sich daher mit einigen ähnlich desillusionierten Aktivisten getroffen und eine neue Strategie entwickelt. Kern davon ist die Bewaffnung.\\nSogenannte peace officers sollen in schwarzen Wohnvierteln patrouillieren, um die Bewohner vor Polizeigewalt zu beschützen. Newsome nimmt sich ein Beispiel an Malcolm X und den bewaffneten Mitgliedern der Black-Panther-Partei, die in den Sechzigerjahren regelmäßig auf \"cop watch\" gingen. Die ersten Ableger dieser Einheit sollen in Atlanta und in der New Yorker Bronx gegründet werden. Die Miliz hat Newsome \"Black O.P.T.S.\" getauft, eine Anspielung auf den Terminus für verdeckte militärische Operationen und auf das populärste Ego-Shooter-Videospiel (Call of Duty: Black Ops). Bei Newsome steht es für opportunities, Chancen.\\nIn der Bronx stehe die Miliz jedoch noch am Anfang, sagt Newsome am Telefon. In New York City ist es nämlich fast unmöglich, einen Waffenschein zu bekommen. Er selbst habe sich gerade um einen beworben, sagt er. Der Prozess ist teuer und kann bis zu ein Jahr dauern. In der Regel braucht man zudem einen sehr guten Grund. In Atlanta, dem Ort für den zweiten Ableger, ist dagegen nichts leichter, als sich eine Waffe zu besorgen. Nahezu jeder über 21 Jahre kann sich im südlichen Bundesstaat Georgia eine Waffe kaufen und offen tragen. Zudem ist es erlaubt, eine Waffe zur Selbstverteidigung einzusetzen. In Atlanta hat der Black-O.P.T.S.-Ableger bereits 100 Mitglieder.'"
      ]
     },
     "execution_count": 2,
     "metadata": {},
     "output_type": "execute_result"
    }
   ],
   "source": [
    "text"
   ]
  },
  {
   "cell_type": "code",
   "execution_count": 9,
   "metadata": {},
   "outputs": [
    {
     "data": {
      "text/plain": [
       "['Am 7',\n",
       " ' Juni steht der schwarze Aktivist Hawk Newsome auf dem Times Square in New York vor Hunderten von Demonstranten und sagt: \"Wir sind an einem kritischen Punkt der Geschichte',\n",
       " ' Entweder ihr gebt schwarzen Menschen ihre Rechte, oder wir brennen dieses Land nieder.\" Hawk Newsome ist der Präsident von Black Lives Matter of Greater New York',\n",
       " ' Die ZEIT hat ihn in den letzten Jahren immer wieder getroffen und seine Radikalisierung dokumentiert',\n",
       " ' Den Glauben, dass der Staat den Schwarzen hilft, hat Newsome mittlerweile verloren',\n",
       " ' Ebenso die Hoffnung, mit friedlichen Protesten etwas daran ändern zu können, dass immer wieder unbewaffnete Schwarze bei der Verhaftung durch Polizisten sterben',\n",
       " ' Nach dem Tod von George Floyd hatte Newsome sich daher mit einigen ähnlich desillusionierten Aktivisten getroffen und eine neue Strategie entwickelt',\n",
       " ' Kern davon ist die Bewaffnung',\n",
       " ' Sogenannte peace officers sollen in schwarzen Wohnvierteln patrouillieren, um die Bewohner vor Polizeigewalt zu beschützen',\n",
       " ' Newsome nimmt sich ein Beispiel an Malcolm X und den bewaffneten Mitgliedern der Black-Panther-Partei, die in den Sechzigerjahren regelmäßig auf \"cop watch\" gingen',\n",
       " ' Die ersten Ableger dieser Einheit sollen in Atlanta und in der New Yorker Bronx gegründet werden',\n",
       " ' Die Miliz hat Newsome \"Black O.P.T.S.\" getauft, eine Anspielung auf den Terminus für verdeckte militärische Operationen und auf das populärste Ego-Shooter-Videospiel (Call of Duty: Black Ops)',\n",
       " ' Bei Newsome steht es für opportunities, Chancen',\n",
       " ' In der Bronx stehe die Miliz jedoch noch am Anfang, sagt Newsome am Telefon',\n",
       " ' In New York City ist es nämlich fast unmöglich, einen Waffenschein zu bekommen',\n",
       " ' Er selbst habe sich gerade um einen beworben, sagt er',\n",
       " ' Der Prozess ist teuer und kann bis zu ein Jahr dauern',\n",
       " ' In der Regel braucht man zudem einen sehr guten Grund',\n",
       " ' In Atlanta, dem Ort für den zweiten Ableger, ist dagegen nichts leichter, als sich eine Waffe zu besorgen',\n",
       " ' Nahezu jeder über 21 Jahre kann sich im südlichen Bundesstaat Georgia eine Waffe kaufen und offen tragen',\n",
       " ' Zudem ist es erlaubt, eine Waffe zur Selbstverteidigung einzusetzen',\n",
       " ' In Atlanta hat der Black-O.P.T.S.-Ableger bereits 100 Mitglieder.']"
      ]
     },
     "execution_count": 9,
     "metadata": {},
     "output_type": "execute_result"
    }
   ],
   "source": [
    "#Auf diese Weise eliminieren wir die Punkte und zerhacken Daten und Abkürzungen.\n",
    "#text = text.split('.')\n",
    "\n",
    "import re\n",
    "\n",
    "#Wir entfernen erstmal die harten Zeilenumbrüche.\n",
    "text = re.sub(r'\\n', ' ', text)\n",
    "#Das Datum am Anfang hat immer noch einen falschen Split, die Abkürzung O.P.T.S. ist dagegen erhalten.\n",
    "text = re.split(r'[\\.\\!\\?](?= \\w+)', text)\n",
    "text"
   ]
  },
  {
   "cell_type": "markdown",
   "metadata": {},
   "source": [
    "2. Wir zerlegen Text in Wörter."
   ]
  },
  {
   "cell_type": "code",
   "execution_count": 5,
   "metadata": {},
   "outputs": [
    {
     "data": {
      "text/plain": [
       "['Am',\n",
       " '7.',\n",
       " 'Juni',\n",
       " 'steht',\n",
       " 'der',\n",
       " 'schwarze',\n",
       " 'Aktivist',\n",
       " 'Hawk',\n",
       " 'Newsome',\n",
       " 'auf',\n",
       " 'dem',\n",
       " 'Times',\n",
       " 'Square',\n",
       " 'in',\n",
       " 'New',\n",
       " 'York',\n",
       " 'vor',\n",
       " 'Hunderten',\n",
       " 'von',\n",
       " 'Demonstranten',\n",
       " 'und',\n",
       " 'sagt:',\n",
       " '\"Wir',\n",
       " 'sind',\n",
       " 'an',\n",
       " 'einem',\n",
       " 'kritischen',\n",
       " 'Punkt',\n",
       " 'der',\n",
       " 'Geschichte.',\n",
       " 'Entweder',\n",
       " 'ihr',\n",
       " 'gebt',\n",
       " 'schwarzen',\n",
       " 'Menschen',\n",
       " 'ihre',\n",
       " 'Rechte,',\n",
       " 'oder',\n",
       " 'wir',\n",
       " 'brennen',\n",
       " 'dieses',\n",
       " 'Land',\n",
       " 'nieder.\"',\n",
       " 'Hawk',\n",
       " 'Newsome',\n",
       " 'ist',\n",
       " 'der',\n",
       " 'Präsident',\n",
       " 'von',\n",
       " 'Black',\n",
       " 'Lives',\n",
       " 'Matter',\n",
       " 'of',\n",
       " 'Greater',\n",
       " 'New',\n",
       " 'York.',\n",
       " 'Die',\n",
       " 'ZEIT',\n",
       " 'hat',\n",
       " 'ihn',\n",
       " 'in',\n",
       " 'den',\n",
       " 'letzten',\n",
       " 'Jahren',\n",
       " 'immer',\n",
       " 'wieder',\n",
       " 'getroffen',\n",
       " 'und',\n",
       " 'seine',\n",
       " 'Radikalisierung',\n",
       " 'dokumentiert.',\n",
       " 'Den',\n",
       " 'Glauben,',\n",
       " 'dass',\n",
       " 'der',\n",
       " 'Staat',\n",
       " 'den',\n",
       " 'Schwarzen',\n",
       " 'hilft,',\n",
       " 'hat',\n",
       " 'Newsome',\n",
       " 'mittlerweile',\n",
       " 'verloren.',\n",
       " 'Ebenso',\n",
       " 'die',\n",
       " 'Hoffnung,',\n",
       " 'mit',\n",
       " 'friedlichen',\n",
       " 'Protesten',\n",
       " 'etwas',\n",
       " 'daran',\n",
       " 'ändern',\n",
       " 'zu',\n",
       " 'können,',\n",
       " 'dass',\n",
       " 'immer',\n",
       " 'wieder',\n",
       " 'unbewaffnete',\n",
       " 'Schwarze',\n",
       " 'bei',\n",
       " 'der',\n",
       " 'Verhaftung',\n",
       " 'durch',\n",
       " 'Polizisten',\n",
       " 'sterben.',\n",
       " 'Nach',\n",
       " 'dem',\n",
       " 'Tod',\n",
       " 'von',\n",
       " 'George',\n",
       " 'Floyd',\n",
       " 'hatte',\n",
       " 'Newsome',\n",
       " 'sich',\n",
       " 'daher',\n",
       " 'mit',\n",
       " 'einigen',\n",
       " 'ähnlich',\n",
       " 'desillusionierten',\n",
       " 'Aktivisten',\n",
       " 'getroffen',\n",
       " 'und',\n",
       " 'eine',\n",
       " 'neue',\n",
       " 'Strategie',\n",
       " 'entwickelt.',\n",
       " 'Kern',\n",
       " 'davon',\n",
       " 'ist',\n",
       " 'die',\n",
       " 'Bewaffnung.',\n",
       " 'Sogenannte',\n",
       " 'peace',\n",
       " 'officers',\n",
       " 'sollen',\n",
       " 'in',\n",
       " 'schwarzen',\n",
       " 'Wohnvierteln',\n",
       " 'patrouillieren,',\n",
       " 'um',\n",
       " 'die',\n",
       " 'Bewohner',\n",
       " 'vor',\n",
       " 'Polizeigewalt',\n",
       " 'zu',\n",
       " 'beschützen.',\n",
       " 'Newsome',\n",
       " 'nimmt',\n",
       " 'sich',\n",
       " 'ein',\n",
       " 'Beispiel',\n",
       " 'an',\n",
       " 'Malcolm',\n",
       " 'X',\n",
       " 'und',\n",
       " 'den',\n",
       " 'bewaffneten',\n",
       " 'Mitgliedern',\n",
       " 'der',\n",
       " 'Black-Panther-Partei,',\n",
       " 'die',\n",
       " 'in',\n",
       " 'den',\n",
       " 'Sechzigerjahren',\n",
       " 'regelmäßig',\n",
       " 'auf',\n",
       " '\"cop',\n",
       " 'watch\"',\n",
       " 'gingen.',\n",
       " 'Die',\n",
       " 'ersten',\n",
       " 'Ableger',\n",
       " 'dieser',\n",
       " 'Einheit',\n",
       " 'sollen',\n",
       " 'in',\n",
       " 'Atlanta',\n",
       " 'und',\n",
       " 'in',\n",
       " 'der',\n",
       " 'New',\n",
       " 'Yorker',\n",
       " 'Bronx',\n",
       " 'gegründet',\n",
       " 'werden.',\n",
       " 'Die',\n",
       " 'Miliz',\n",
       " 'hat',\n",
       " 'Newsome',\n",
       " '\"Black',\n",
       " 'O.P.T.S.\"',\n",
       " 'getauft,',\n",
       " 'eine',\n",
       " 'Anspielung',\n",
       " 'auf',\n",
       " 'den',\n",
       " 'Terminus',\n",
       " 'für',\n",
       " 'verdeckte',\n",
       " 'militärische',\n",
       " 'Operationen',\n",
       " 'und',\n",
       " 'auf',\n",
       " 'das',\n",
       " 'populärste',\n",
       " 'Ego-Shooter-Videospiel',\n",
       " '(Call',\n",
       " 'of',\n",
       " 'Duty:',\n",
       " 'Black',\n",
       " 'Ops).',\n",
       " 'Bei',\n",
       " 'Newsome',\n",
       " 'steht',\n",
       " 'es',\n",
       " 'für',\n",
       " 'opportunities,',\n",
       " 'Chancen.',\n",
       " 'In',\n",
       " 'der',\n",
       " 'Bronx',\n",
       " 'stehe',\n",
       " 'die',\n",
       " 'Miliz',\n",
       " 'jedoch',\n",
       " 'noch',\n",
       " 'am',\n",
       " 'Anfang,',\n",
       " 'sagt',\n",
       " 'Newsome',\n",
       " 'am',\n",
       " 'Telefon.',\n",
       " 'In',\n",
       " 'New',\n",
       " 'York',\n",
       " 'City',\n",
       " 'ist',\n",
       " 'es',\n",
       " 'nämlich',\n",
       " 'fast',\n",
       " 'unmöglich,',\n",
       " 'einen',\n",
       " 'Waffenschein',\n",
       " 'zu',\n",
       " 'bekommen.',\n",
       " 'Er',\n",
       " 'selbst',\n",
       " 'habe',\n",
       " 'sich',\n",
       " 'gerade',\n",
       " 'um',\n",
       " 'einen',\n",
       " 'beworben,',\n",
       " 'sagt',\n",
       " 'er.',\n",
       " 'Der',\n",
       " 'Prozess',\n",
       " 'ist',\n",
       " 'teuer',\n",
       " 'und',\n",
       " 'kann',\n",
       " 'bis',\n",
       " 'zu',\n",
       " 'ein',\n",
       " 'Jahr',\n",
       " 'dauern.',\n",
       " 'In',\n",
       " 'der',\n",
       " 'Regel',\n",
       " 'braucht',\n",
       " 'man',\n",
       " 'zudem',\n",
       " 'einen',\n",
       " 'sehr',\n",
       " 'guten',\n",
       " 'Grund.',\n",
       " 'In',\n",
       " 'Atlanta,',\n",
       " 'dem',\n",
       " 'Ort',\n",
       " 'für',\n",
       " 'den',\n",
       " 'zweiten',\n",
       " 'Ableger,',\n",
       " 'ist',\n",
       " 'dagegen',\n",
       " 'nichts',\n",
       " 'leichter,',\n",
       " 'als',\n",
       " 'sich',\n",
       " 'eine',\n",
       " 'Waffe',\n",
       " 'zu',\n",
       " 'besorgen.',\n",
       " 'Nahezu',\n",
       " 'jeder',\n",
       " 'über',\n",
       " '21',\n",
       " 'Jahre',\n",
       " 'kann',\n",
       " 'sich',\n",
       " 'im',\n",
       " 'südlichen',\n",
       " 'Bundesstaat',\n",
       " 'Georgia',\n",
       " 'eine',\n",
       " 'Waffe',\n",
       " 'kaufen',\n",
       " 'und',\n",
       " 'offen',\n",
       " 'tragen.',\n",
       " 'Zudem',\n",
       " 'ist',\n",
       " 'es',\n",
       " 'erlaubt,',\n",
       " 'eine',\n",
       " 'Waffe',\n",
       " 'zur',\n",
       " 'Selbstverteidigung',\n",
       " 'einzusetzen.',\n",
       " 'In',\n",
       " 'Atlanta',\n",
       " 'hat',\n",
       " 'der',\n",
       " 'Black-O.P.T.S.-Ableger',\n",
       " 'bereits',\n",
       " '100',\n",
       " 'Mitglieder.']"
      ]
     },
     "execution_count": 5,
     "metadata": {},
     "output_type": "execute_result"
    }
   ],
   "source": [
    "#Wir können natürlich über Whitespace zerlegen, \"zerschneiden\" dabei aber Mehrwortbenennungen wie New York \n",
    "#oder Times Square.\n",
    "#Lösungsideen?\n",
    "\n",
    "#Wir fügen die Textschnipsel von oben wieder zusammen.\n",
    "text = '. '.join(text)\n",
    "\n",
    "text.split()"
   ]
  },
  {
   "cell_type": "markdown",
   "metadata": {},
   "source": [
    "3. Wir finden alle Eigennamen."
   ]
  },
  {
   "cell_type": "code",
   "execution_count": 5,
   "metadata": {},
   "outputs": [],
   "source": [
    "#Ideen?\n",
    "#Technisch besteht Named Entity Recognition aus zwei Tasks:\n",
    "#Sequence Labeling: S-O-E\n",
    "#Entity Classification"
   ]
  },
  {
   "cell_type": "markdown",
   "metadata": {},
   "source": [
    "4. Wir setzen Kommas."
   ]
  },
  {
   "cell_type": "code",
   "execution_count": 6,
   "metadata": {},
   "outputs": [],
   "source": [
    "#Erstmal entfernen wir alle Kommas aus dem Text.\n",
    "#Und nun?\n",
    "\n",
    "import re\n",
    "\n",
    "##Nur der Ordnung halber entfernen wir doppelte Leerzeichen\n",
    "text = re.sub(r'\\s+', ' ', text)\n",
    "text = re.sub(r',', '', text)"
   ]
  },
  {
   "cell_type": "code",
   "execution_count": 7,
   "metadata": {},
   "outputs": [
    {
     "data": {
      "text/plain": [
       "'Am 7. Juni steht der schwarze Aktivist Hawk Newsome auf dem Times Square in New York vor Hunderten von Demonstranten und sagt: \"Wir sind an einem kritischen Punkt der Geschichte. Entweder ihr gebt schwarzen Menschen ihre Rechte oder wir brennen dieses Land nieder.\" Hawk Newsome ist der Präsident von Black Lives Matter of Greater New York. Die ZEIT hat ihn in den letzten Jahren immer wieder getroffen und seine Radikalisierung dokumentiert. Den Glauben dass der Staat den Schwarzen hilft hat Newsome mittlerweile verloren. Ebenso die Hoffnung mit friedlichen Protesten etwas daran ändern zu können dass immer wieder unbewaffnete Schwarze bei der Verhaftung durch Polizisten sterben. Nach dem Tod von George Floyd hatte Newsome sich daher mit einigen ähnlich desillusionierten Aktivisten getroffen und eine neue Strategie entwickelt. Kern davon ist die Bewaffnung. Sogenannte peace officers sollen in schwarzen Wohnvierteln patrouillieren um die Bewohner vor Polizeigewalt zu beschützen. Newsome nimmt sich ein Beispiel an Malcolm X und den bewaffneten Mitgliedern der Black-Panther-Partei die in den Sechzigerjahren regelmäßig auf \"cop watch\" gingen. Die ersten Ableger dieser Einheit sollen in Atlanta und in der New Yorker Bronx gegründet werden. Die Miliz hat Newsome \"Black O.P.T.S.\" getauft eine Anspielung auf den Terminus für verdeckte militärische Operationen und auf das populärste Ego-Shooter-Videospiel (Call of Duty: Black Ops). Bei Newsome steht es für opportunities Chancen. In der Bronx stehe die Miliz jedoch noch am Anfang sagt Newsome am Telefon. In New York City ist es nämlich fast unmöglich einen Waffenschein zu bekommen. Er selbst habe sich gerade um einen beworben sagt er. Der Prozess ist teuer und kann bis zu ein Jahr dauern. In der Regel braucht man zudem einen sehr guten Grund. In Atlanta dem Ort für den zweiten Ableger ist dagegen nichts leichter als sich eine Waffe zu besorgen. Nahezu jeder über 21 Jahre kann sich im südlichen Bundesstaat Georgia eine Waffe kaufen und offen tragen. Zudem ist es erlaubt eine Waffe zur Selbstverteidigung einzusetzen. In Atlanta hat der Black-O.P.T.S.-Ableger bereits 100 Mitglieder.'"
      ]
     },
     "execution_count": 7,
     "metadata": {},
     "output_type": "execute_result"
    }
   ],
   "source": [
    "text"
   ]
  },
  {
   "cell_type": "markdown",
   "metadata": {},
   "source": [
    "# Gut oder schlecht? Ein simples Machine-Learning-Szenario.\n",
    "\n",
    "Jeden Tag schrieben hunderte Kunden ihre Meinung zu unseren Produkten. Dabei den Überblick \n",
    "zu behalten, ist nicht einfach. Wir möchten daher ein kleines Programm schreiben, welches feststellt ob die \n",
    "Kunden positiv oder eher negativ über unsere Produkte sprechen.\n",
    "\n",
    "Dazu bekommen wir eine Liste der Kundenmeinungen. Wir sollen ein kleines Prgramm schreiben, welches eine \n",
    "Eins zurückgibt wenn eine Kundenaussage positiv ist und eine Null zurück gibt, wenn eine Kundenaussage \n",
    "negativ ist. Auf diese Weise können wir am Schluss einfach auszählen wieviel Prozent der Kunden postiv über unsere Produkte sprechen."
   ]
  },
  {
   "cell_type": "code",
   "execution_count": 2,
   "metadata": {},
   "outputs": [],
   "source": [
    "#Empirische Daten sind \"messy\".\n",
    "\n",
    "feedback_texte = [\"Das ist ein tolles Produkt.\",\n",
    "                  \"Ich bin super zufrieden!\",\n",
    "                  \"Funktioniert nur sehr schlecht.\",\n",
    "                  \"Ist mir viel zu teuer.\",                                    \n",
    "                  \"Super Produkt, toller service\",\n",
    "                  \"Für die Leistung zu teuer.\",\n",
    "                  \"Ein ein super Produkt.\" #Tippfehler\n",
    "                  \"Super Preis, für die Leistung\", #uneindeutige Aussage\n",
    "                  \"Hab eins für meine Oma gekauft und die ist sehr zufrieden\",\n",
    "                  \"Kunderservice ist ein nur toll.\"] #auch hier eine uneindeutige Aussage"
   ]
  },
  {
   "cell_type": "code",
   "execution_count": 3,
   "metadata": {},
   "outputs": [
    {
     "name": "stdout",
     "output_type": "stream",
     "text": [
      "1 = Das ist ein tolles Produkt.\n",
      "1 = Ich bin super zufrieden!\n",
      "1 = Funktioniert nur sehr schlecht.\n",
      "1 = Ist mir viel zu teuer.\n",
      "1 = Super Produkt, toller service\n",
      "1 = Für die Leistung zu teuer.\n",
      "1 = Ein ein super Produkt.Super Preis, für die Leistung\n",
      "1 = Hab eins für meine Oma gekauft und die ist sehr zufrieden\n",
      "1 = Kunderservice ist ein nur toll.\n"
     ]
    }
   ],
   "source": [
    "#Overfitting: Wenn wir unser Modell nur auf Grundlage obiger Daten bauen, könnten wir auf die Idee kommen, dass eine\n",
    "#triviale Lösung gut genug ist. Für zuverlässig funktionierende Modelle brauchen wir ausreichende - und ausreichend\n",
    "#diverse - Trainingsdaten. Andernfalls \"overfitten\" wir unser Modell auf eine nicht-repräsentative Teilmenge der Daten.\n",
    "\n",
    "#Triviale Lösung: Unser Kunden-Feedback ist immer super.\n",
    "def sentiment(text):\n",
    "    return 1\n",
    "\n",
    "for text in feedback_texte:\n",
    "    print(f\"{sentiment(text)} = {text}\")"
   ]
  },
  {
   "cell_type": "markdown",
   "metadata": {},
   "source": [
    "## Mehr Texte\n",
    "\n",
    "Da unser System so gut funktioniert, bitten uns die Kollegen weitere Texte zu analysieren:"
   ]
  },
  {
   "cell_type": "code",
   "execution_count": 4,
   "metadata": {},
   "outputs": [
    {
     "name": "stdout",
     "output_type": "stream",
     "text": [
      "1 = Das ist ein dolles Produkt.\n",
      "1 = Macht meistens was es soll.\n",
      "1 = Das Produkt ist gar nicht so toll wie ich gedacht hatte.\n",
      "1 = super, schon nach ZWEI tagen kaputt!!!\n",
      "1 = Bester Service der Welt. Nicht.\n",
      "1 = Gute Leistung, der Preis ist aber nicht angemessen.\n",
      "1 = Gar nicht mal so gut.\n",
      "1 = Super Preis, mieser Service.:(\n",
      "1 = 1 nices teil\n"
     ]
    }
   ],
   "source": [
    "#Vielleicht ist die triviale Lösung doch nicht so gut.\n",
    "feedback_texte_advanced = [\"Das ist ein dolles Produkt.\", #Umgangssprache\n",
    "                  \"Macht meistens was es soll.\", #uneindeutig\n",
    "                  \"Das Produkt ist gar nicht so toll wie ich gedacht hatte.\", #uneindeutig\n",
    "                  \"super, schon nach ZWEI tagen kaputt!!!\", #aussagekräftige Typographie                                    \n",
    "                  \"Bester Service der Welt. Nicht.\", #Satzübergreifende Semantik\n",
    "                  \"Gute Leistung, der Preis ist aber nicht angemessen.\",\n",
    "                  \"Gar nicht mal so gut.\", #uneindeutig\n",
    "                  \"Super Preis, mieser Service.\"\n",
    "                  \":(\", #Sonderzeichen\n",
    "                  \"1 nices teil\"] #Umgangssprache\n",
    "\n",
    "for text in feedback_texte_advanced:\n",
    "    print(f\"{sentiment(text)} = {text}\")"
   ]
  },
  {
   "cell_type": "markdown",
   "metadata": {},
   "source": [
    "## Machine Learning\n",
    "\n",
    "Wir machen eine ganz einfache BOW-NB-Klassifikation.\n",
    "(BOW - bag of words: wir klassifizieren die Texte anhand ihres Vokabulars, ignorieren aber die Reihenfolge der Wörter;\n",
    "NB - Naive Bayes: eine simple, probabilistische Klassifikation)"
   ]
  },
  {
   "cell_type": "code",
   "execution_count": 5,
   "metadata": {},
   "outputs": [],
   "source": [
    "#scikit-learn ist eine gut entwickelte Statistik- und ML-Bibliothek für Python\n",
    "#Wir nutzen den TfidfVectorizer für die \"feature extraction\", also um den Text in eine ML-fähige Repräsentation zu bringen.\n",
    "from sklearn.feature_extraction.text import TfidfVectorizer \n",
    "#Das ist unser Klassifikationsalgorithmus\n",
    "from sklearn.naive_bayes import MultinomialNB"
   ]
  },
  {
   "cell_type": "code",
   "execution_count": 6,
   "metadata": {},
   "outputs": [],
   "source": [
    "#Wir bereiten unsere Testdaten gleich mit vor. Die brauchen wir, um unser Modell zu validieren.\n",
    "test = [\"Ich bin total zufrieden.\",\n",
    "       \"Mann, ich bin SOWAS VON zufrieden!!!\",\n",
    "       \"Würde ich wieder kaufen.\",\n",
    "       \"Wirklich großer Mist.\",\n",
    "       \"Ist schon kaputt\"]\n",
    "\n",
    "vectorizer = TfidfVectorizer()\n",
    "data = list()\n",
    "data.extend(feedback_texte)\n",
    "data.extend(feedback_texte_advanced)\n",
    "data.extend(test)"
   ]
  },
  {
   "cell_type": "code",
   "execution_count": 7,
   "metadata": {},
   "outputs": [],
   "source": [
    "#Für ML-Experimente müssen wir Text i. d. R. in eine geeignete mathematische Repräsentation bringen.\n",
    "#Hier repräsentieren wir den Datensatz als Matrix von Tfidf-Werten.\n",
    "\n",
    "all_data = vectorizer.fit_transform(data)\n",
    "#Wir wollen lernen, sentiment labels (1=positiv, 0=negativ) vorherzusagen. Dafür trainieren wir mit bereits gelabelten Daten.\n",
    "#Sind die train_labels wirklich korrekt? Wie könnte man die Kundenmeinungen noch einordnen?\n",
    "train_labels = [1,1,0,0,1,0,1,1,1,1,1,0,0,0,0,0,0,1]\n",
    "\n",
    "#Wir splitten Trainings- und Testdaten.\n",
    "train_data = all_data[:len(feedback_texte)+len(feedback_texte_advanced)]\n",
    "test_data = all_data[len(feedback_texte)+len(feedback_texte_advanced):]"
   ]
  },
  {
   "cell_type": "code",
   "execution_count": 24,
   "metadata": {},
   "outputs": [
    {
     "name": "stdout",
     "output_type": "stream",
     "text": [
      "[[0.         0.         0.         0.         0.         0.\n",
      "  0.         0.         0.         0.         0.         0.52987404\n",
      "  0.         0.         0.         0.         0.         0.\n",
      "  0.         0.         0.         0.         0.         0.\n",
      "  0.         0.         0.         0.         0.         0.\n",
      "  0.         0.         0.         0.         0.         0.\n",
      "  0.         0.         0.46822377 0.         0.         0.\n",
      "  0.52987404 0.         0.46822377 0.         0.         0.\n",
      "  0.         0.         0.         0.         0.         0.\n",
      "  0.         0.         0.         0.         0.         0.\n",
      "  0.         0.         0.         0.         0.         0.\n",
      "  0.         0.         0.        ]]\n"
     ]
    }
   ],
   "source": [
    "print(all_data.todense()[2])"
   ]
  },
  {
   "cell_type": "code",
   "execution_count": 25,
   "metadata": {},
   "outputs": [],
   "source": [
    "#Wir trainieren ein Modell.\n",
    "\n",
    "#https://scikit-learn.org/stable/modules/generated/sklearn.naive_bayes.MultinomialNB.html\n",
    "nb = MultinomialNB()\n",
    "model = nb.fit(train_data, train_labels)"
   ]
  },
  {
   "cell_type": "code",
   "execution_count": 26,
   "metadata": {},
   "outputs": [],
   "source": [
    "#Wir testen das Modell, indem wir die Vorhersagen auf den Testdaten auswerten.\n",
    "\n",
    "predictions = model.predict(test_data)"
   ]
  },
  {
   "cell_type": "code",
   "execution_count": 27,
   "metadata": {},
   "outputs": [
    {
     "name": "stdout",
     "output_type": "stream",
     "text": [
      "Ich bin total zufrieden. 1\n",
      "Mann, ich bin SOWAS VON zufrieden!!! 1\n",
      "Würde ich wieder kaufen. 1\n",
      "Wirklich großer Mist. 1\n",
      "Ist schon kaputt 0\n"
     ]
    }
   ],
   "source": [
    "for text, prediction in zip(test, predictions):\n",
    "    print(text, prediction)"
   ]
  },
  {
   "cell_type": "markdown",
   "metadata": {},
   "source": [
    "Unser Modell klassifiziert nur 3 von 5 (60 %) der Sätze richtig. Wie können wir es verbessern?"
   ]
  },
  {
   "cell_type": "markdown",
   "metadata": {},
   "source": [
    "## Illustration typischer Wortverteilungen"
   ]
  },
  {
   "cell_type": "code",
   "execution_count": 8,
   "metadata": {},
   "outputs": [
    {
     "name": "stdout",
     "output_type": "stream",
     "text": [
      "[('der', 10), ('Newsome', 8), ('und', 8), ('in', 6), ('ist', 6), ('den', 6), ('die', 5), ('zu', 5), ('sich', 5), ('eine', 5), ('In', 5), ('auf', 4), ('New', 4), ('hat', 4), ('dem', 3), ('von', 3), ('Die', 3), ('für', 3), ('es', 3), ('einen', 3), ('Waffe', 3), ('steht', 2), ('Hawk', 2), ('York', 2), ('vor', 2), ('an', 2), ('schwarzen', 2), ('Black', 2), ('of', 2), ('immer', 2), ('wieder', 2), ('getroffen', 2), ('dass', 2), ('mit', 2), ('sollen', 2), ('um', 2), ('ein', 2), ('Atlanta', 2), ('Bronx', 2), ('Miliz', 2), ('am', 2), ('sagt', 2), ('kann', 2), ('Am', 1), ('7.', 1), ('Juni', 1), ('schwarze', 1), ('Aktivist', 1), ('Times', 1), ('Square', 1), ('Hunderten', 1), ('Demonstranten', 1), ('sagt:', 1), ('\"Wir', 1), ('sind', 1), ('einem', 1), ('kritischen', 1), ('Punkt', 1), ('Geschichte.', 1), ('Entweder', 1), ('ihr', 1), ('gebt', 1), ('Menschen', 1), ('ihre', 1), ('Rechte,', 1), ('oder', 1), ('wir', 1), ('brennen', 1), ('dieses', 1), ('Land', 1), ('nieder.\"', 1), ('Präsident', 1), ('Lives', 1), ('Matter', 1), ('Greater', 1), ('York.', 1), ('ZEIT', 1), ('ihn', 1), ('letzten', 1), ('Jahren', 1), ('seine', 1), ('Radikalisierung', 1), ('dokumentiert.', 1), ('Den', 1), ('Glauben,', 1), ('Staat', 1), ('Schwarzen', 1), ('hilft,', 1), ('mittlerweile', 1), ('verloren.', 1), ('Ebenso', 1), ('Hoffnung,', 1), ('friedlichen', 1), ('Protesten', 1), ('etwas', 1), ('daran', 1), ('ändern', 1), ('können,', 1), ('unbewaffnete', 1), ('Schwarze', 1), ('bei', 1), ('Verhaftung', 1), ('durch', 1), ('Polizisten', 1), ('sterben.', 1), ('Nach', 1), ('Tod', 1), ('George', 1), ('Floyd', 1), ('hatte', 1), ('daher', 1), ('einigen', 1), ('ähnlich', 1), ('desillusionierten', 1), ('Aktivisten', 1), ('neue', 1), ('Strategie', 1), ('entwickelt.', 1), ('Kern', 1), ('davon', 1), ('Bewaffnung.', 1), ('Sogenannte', 1), ('peace', 1), ('officers', 1), ('Wohnvierteln', 1), ('patrouillieren,', 1), ('Bewohner', 1), ('Polizeigewalt', 1), ('beschützen.', 1), ('nimmt', 1), ('Beispiel', 1), ('Malcolm', 1), ('X', 1), ('bewaffneten', 1), ('Mitgliedern', 1), ('Black-Panther-Partei,', 1), ('Sechzigerjahren', 1), ('regelmäßig', 1), ('\"cop', 1), ('watch\"', 1), ('gingen.', 1), ('ersten', 1), ('Ableger', 1), ('dieser', 1), ('Einheit', 1), ('Yorker', 1), ('gegründet', 1), ('werden.', 1), ('\"Black', 1), ('O.P.T.S.\"', 1), ('getauft,', 1), ('Anspielung', 1), ('Terminus', 1), ('verdeckte', 1), ('militärische', 1), ('Operationen', 1), ('das', 1), ('populärste', 1), ('Ego-Shooter-Videospiel', 1), ('(Call', 1), ('Duty:', 1), ('Ops).', 1), ('Bei', 1), ('opportunities,', 1), ('Chancen.', 1), ('stehe', 1), ('jedoch', 1), ('noch', 1), ('Anfang,', 1), ('Telefon.', 1), ('City', 1), ('nämlich', 1), ('fast', 1), ('unmöglich,', 1), ('Waffenschein', 1), ('bekommen.', 1), ('Er', 1), ('selbst', 1), ('habe', 1), ('gerade', 1), ('beworben,', 1), ('er.', 1), ('Der', 1), ('Prozess', 1), ('teuer', 1), ('bis', 1), ('Jahr', 1), ('dauern.', 1), ('Regel', 1), ('braucht', 1), ('man', 1), ('zudem', 1), ('sehr', 1), ('guten', 1), ('Grund.', 1), ('Atlanta,', 1), ('Ort', 1), ('zweiten', 1), ('Ableger,', 1), ('dagegen', 1), ('nichts', 1), ('leichter,', 1), ('als', 1), ('besorgen.', 1), ('Nahezu', 1), ('jeder', 1), ('über', 1), ('21', 1), ('Jahre', 1), ('im', 1), ('südlichen', 1), ('Bundesstaat', 1), ('Georgia', 1), ('kaufen', 1), ('offen', 1), ('tragen.', 1), ('Zudem', 1), ('erlaubt,', 1), ('zur', 1), ('Selbstverteidigung', 1), ('einzusetzen.', 1), ('Black-O.P.T.S.-Ableger', 1), ('bereits', 1), ('100', 1), ('Mitglieder.', 1)]\n"
     ]
    }
   ],
   "source": [
    "from collections import Counter\n",
    "\n",
    "#wir schauen uns die häufigsten Wörter aus dem Zeit-Artikel oben an\n",
    "zeitcounter = Counter(word for word in text.split())\n",
    "print(sorted(zeitcounter.items(), key=lambda x: x[1], reverse=True))"
   ]
  },
  {
   "cell_type": "code",
   "execution_count": 20,
   "metadata": {},
   "outputs": [
    {
     "name": "stdout",
     "output_type": "stream",
     "text": [
      "[('Newsome', 8), ('In', 5), ('New', 4), ('Die', 3), ('Waffe', 3), ('Hawk', 2), ('York', 2), ('Black', 2), ('Atlanta', 2), ('Bronx', 2), ('Miliz', 2), ('Am', 1), ('Juni', 1), ('Aktivist', 1), ('Times', 1), ('Square', 1), ('Hunderten', 1), ('Demonstranten', 1), ('Punkt', 1), ('Geschichte.', 1), ('Entweder', 1), ('Menschen', 1), ('Rechte,', 1), ('Land', 1), ('Präsident', 1), ('Lives', 1), ('Matter', 1), ('Greater', 1), ('York.', 1), ('ZEIT', 1), ('Jahren', 1), ('Radikalisierung', 1), ('Den', 1), ('Glauben,', 1), ('Staat', 1), ('Schwarzen', 1), ('Ebenso', 1), ('Hoffnung,', 1), ('Protesten', 1), ('Schwarze', 1), ('Verhaftung', 1), ('Polizisten', 1), ('Nach', 1), ('Tod', 1), ('George', 1), ('Floyd', 1), ('Aktivisten', 1), ('Strategie', 1), ('Kern', 1), ('Bewaffnung.', 1), ('Sogenannte', 1), ('Wohnvierteln', 1), ('Bewohner', 1), ('Polizeigewalt', 1), ('Beispiel', 1), ('Malcolm', 1), ('X', 1), ('Mitgliedern', 1), ('Black-Panther-Partei,', 1), ('Sechzigerjahren', 1), ('Ableger', 1), ('Einheit', 1), ('Yorker', 1), ('O.P.T.S.\"', 1), ('Anspielung', 1), ('Terminus', 1), ('Operationen', 1), ('Ego-Shooter-Videospiel', 1), ('Duty:', 1), ('Ops).', 1), ('Bei', 1), ('Chancen.', 1), ('Anfang,', 1), ('Telefon.', 1), ('City', 1), ('Waffenschein', 1), ('Er', 1), ('Der', 1), ('Prozess', 1), ('Jahr', 1), ('Regel', 1), ('Grund.', 1), ('Atlanta,', 1), ('Ort', 1), ('Ableger,', 1), ('Nahezu', 1), ('Jahre', 1), ('Bundesstaat', 1), ('Georgia', 1), ('Zudem', 1), ('Selbstverteidigung', 1), ('Black-O.P.T.S.-Ableger', 1), ('Mitglieder.', 1)]\n"
     ]
    }
   ],
   "source": [
    "#Funktionswörter sind immer am häufigsten. Schauen wir uns mal nur die Inhaltswörter an\n",
    "\n",
    "##Vereinfachung: Wörter, die mit einem großbuchstaben beginnen\n",
    "zeitcounter_nouns = list(filter(lambda x: re.match(r'[A-Z]', x[0]), zeitcounter.items()))\n",
    "print(sorted(zeitcounter_nouns, key=lambda x: x[1], reverse=True))"
   ]
  },
  {
   "cell_type": "code",
   "execution_count": 22,
   "metadata": {},
   "outputs": [],
   "source": [
    "#Wir vergleichen diesen Text jetzt mit einem wissenschaftlichen Text zur Hexameterannotation\n",
    "\n",
    "text2 = 'Die griechische Sprache weist eine im Vergleich zu anderen klassischen Sprachen'\\\n",
    "        'bemerkenswerte Kontinuität im schriftlichen und mündlichen Gebrauch auf und hat im'\\\n",
    "        'Verlauf ihrer mehrere Jahrtausende umfassenden Geschichte unterschiedliche Entwicklungsstadien'\\\n",
    "        'durchlaufen. Die in vorliegender Arbeit untersuchten Texte lassen sich im Hinblick auf ihre'\\\n",
    "        'Entstehungszeit dem von Bussmann als Klassisches Griechisch bezeichneten Entwicklungsstadium'\\\n",
    "        'zuordnen, das zeitlich zwischen einer älteren, archaischen Entwicklungsstufe und dem hellenistischen'\\\n",
    "        'Griechisch des alexandrinischen Reiches einzuordnen ist. Als systemische Besonderheiten dieser'\\\n",
    "        'mittleren Entwicklungsstufe gelten die folgenden Merkmale (ebd.):'\\\n",
    "        'ein komplexes Vokalsystem mit langen und kurzen Vokalen und Diphthongen'\\\n",
    "        'musikalischer Wortakzent mit semantisch distinktiver Stimmtonbewegung auf einer Wortsilbe,'\\\n",
    "        'komplexes Kasussystem mit 5 Kasus,'\\\n",
    "        'Numerussystem mit Auftreten des Dual.'\\\n",
    "        'Wesentlich für die hier zu bewältigende Annotationsaufgabe sind insbesondere die'\\\n",
    "        'prosodischen Eigenschaften des Griechischen. So bewirkt der musikalische Wortakzent,'\\\n",
    "        'dass die Betonung der Silben nicht wie im Deutschen durch Verstärkung des Tones bewirkt'\\\n",
    "        'wird, sondern durch Aussprache in höherer Tonlage: Auf den musikalischen Akzent weist'\\\n",
    "        'schon der antike Ausdruck προσῳδία, lat. accentus (cantare) = das Dazu-Singen hin. Sowohl'\\\n",
    "        'für die Silbentrennung als auch für die Versmaßannotation sind zudem kontextuelle Markierungen'\\\n",
    "        'an den Vokalen zu beachten, insbesondere:'\\\n",
    "        'Akzentzeichen, vor allem der Zirkumflex (z. B. über dem Diphthong ου im Wort νοῦς),'\\\n",
    "        'der lange Vokale oder Diphthonge kennzeichnet (ebd., S. 11),'\\\n",
    "        'Lesezeichen, insbesondere das Trema, das anzeigt, dass der markierte Vokal nicht wie'\\\n",
    "        'gewöhnlich mit einem davorstehenden Vokal zu einem Diphthong verschmilzt, sondern getrennt'\\\n",
    "        'ausgesprochen wird und demnach auch eine eigene Silbe bildet (ebd., S. 13, ein Beispiel findet'\\\n",
    "        'sich im ersten Vers der Ilias: Πηληιαδεω, getrennt πη.λη.ι.α.δεω).'\\\n",
    "        'Aus computerlinguistischer Sicht können an dieser Stelle die folgenden Aspekte hervorgehoben werden:'\\\n",
    "        'Das Griechische weist eine Reihe komplexer linguistischer Eigenschaften auf, welche'\\\n",
    "        'die automatische Verarbeitung erschweren können (z. B. eine formenreiche Morphologie).'\\\n",
    "        'Aufgrund seiner langen Entwicklungsgeschichte hat das Griechische unterschiedliche'\\\n",
    "        'Entwicklungsstadien mit z. T. deutlichen Veränderungen des linguistischen Systems durchlaufen'\\\n",
    "        '(ebd.). In den Texten Homers können linguistische Merkmale unterschiedlicher Entwicklungsstadien'\\\n",
    "        'auftreten – ein Umstand, dem in der automatischen Verarbeitung möglicherweise Rechnung zu tragen ist.'\\\n",
    "        'Sowohl bei der Silbentrennung als auch bei der Versmaßannotation selbst sind lokale Kontextinformationen in Form von Diakritika (Zirkumflex und Trema) zu beachten.'"
   ]
  },
  {
   "cell_type": "code",
   "execution_count": 26,
   "metadata": {},
   "outputs": [
    {
     "name": "stdout",
     "output_type": "stream",
     "text": [
      "[('Die', 2), ('Entwicklungsstufe', 2), ('Merkmale', 2), ('Vokalen', 2), ('Eigenschaften', 2), ('Silbentrennung', 2), ('Versmaßannotation', 2), ('B.', 2), ('Diphthong', 2), ('S.', 2), ('Vokal', 2), ('Griechische', 2), ('Verarbeitung', 2), ('Sprache', 1), ('Vergleich', 1), ('Sprachenbemerkenswerte', 1), ('Kontinuität', 1), ('Gebrauch', 1), ('Jahrtausende', 1), ('Geschichte', 1), ('Entwicklungsstadiendurchlaufen.', 1), ('Arbeit', 1), ('Texte', 1), ('Hinblick', 1), ('Bussmann', 1), ('Klassisches', 1), ('Griechisch', 1), ('Entwicklungsstadiumzuordnen,', 1), ('Reiches', 1), ('Als', 1), ('Besonderheiten', 1), ('Vokalsystem', 1), ('Diphthongenmusikalischer', 1), ('Wortakzent', 1), ('Stimmtonbewegung', 1), ('Wortsilbe,komplexes', 1), ('Kasussystem', 1), ('Kasus,Numerussystem', 1), ('Auftreten', 1), ('Dual.Wesentlich', 1), ('Annotationsaufgabe', 1), ('Griechischen.', 1), ('So', 1), ('Wortakzent,dass', 1), ('Betonung', 1), ('Silben', 1), ('Deutschen', 1), ('Verstärkung', 1), ('Tones', 1), ('Aussprache', 1), ('Tonlage:', 1), ('Auf', 1), ('Akzent', 1), ('Ausdruck', 1), ('Dazu-Singen', 1), ('Sowohlfür', 1), ('Markierungenan', 1), ('Zirkumflex', 1), ('Wort', 1), ('Vokale', 1), ('Diphthonge', 1), ('Trema,', 1), ('Silbe', 1), ('Beispiel', 1), ('Vers', 1), ('Ilias:', 1), ('Sicht', 1), ('Stelle', 1), ('Aspekte', 1), ('Reihe', 1), ('Morphologie).Aufgrund', 1), ('Entwicklungsgeschichte', 1), ('T.', 1), ('Veränderungen', 1), ('Systems', 1), ('In', 1), ('Texten', 1), ('Homers', 1), ('Entwicklungsstadienauftreten', 1), ('Umstand,', 1), ('Rechnung', 1), ('Kontextinformationen', 1), ('Form', 1), ('Diakritika', 1), ('Trema)', 1)]\n"
     ]
    }
   ],
   "source": [
    "hexcounter = Counter(word for word in text2.split())\n",
    "hexcounter_nouns = list(filter(lambda x: re.match(r'[A-Z]', x[0]), hexcounter.items()))\n",
    "print(sorted(hexcounter_nouns, key=lambda x: x[1], reverse=True))"
   ]
  },
  {
   "cell_type": "code",
   "execution_count": null,
   "metadata": {},
   "outputs": [],
   "source": []
  }
 ],
 "metadata": {
  "kernelspec": {
   "display_name": "Python 3",
   "language": "python",
   "name": "python3"
  },
  "language_info": {
   "codemirror_mode": {
    "name": "ipython",
    "version": 3
   },
   "file_extension": ".py",
   "mimetype": "text/x-python",
   "name": "python",
   "nbconvert_exporter": "python",
   "pygments_lexer": "ipython3",
   "version": "3.7.5"
  }
 },
 "nbformat": 4,
 "nbformat_minor": 2
}
