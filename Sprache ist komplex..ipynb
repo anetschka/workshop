{
 "cells": [
  {
   "cell_type": "markdown",
   "metadata": {},
   "source": [
    "Dieses Notebook bietet Nicht-Linguisten Anregungen, sich mit der Komplexität von Sprache auseinander zu setzen. Wir versuchen uns an einigen (für Menschen) ganz alltäglichen \"NLP\"-Tasks. Das Ziel des Experiments besteht darin zu verstehen, warum Sprache so komplex ist."
   ]
  },
  {
   "cell_type": "markdown",
   "metadata": {},
   "source": [
    "1. Wir zerlegen einen Text in Sätze."
   ]
  },
  {
   "cell_type": "code",
   "execution_count": 1,
   "metadata": {},
   "outputs": [],
   "source": [
    "#Textquelle: https://www.zeit.de/2020/39/weisse-schwarze-milizen-waffen-gewalt-rassismus-usa\n",
    "\n",
    "text = \"\"\"Am 7. Juni steht der schwarze Aktivist Hawk Newsome auf dem Times Square in New York vor Hunderten von Demonstranten und sagt: \"Wir sind an einem kritischen Punkt der Geschichte. Entweder ihr gebt schwarzen Menschen ihre Rechte, oder wir brennen dieses Land nieder.\"\n",
    "Hawk Newsome ist der Präsident von Black Lives Matter of Greater New York. Die ZEIT hat ihn in den letzten Jahren immer wieder getroffen und seine Radikalisierung dokumentiert. Den Glauben, dass der Staat den Schwarzen hilft, hat Newsome mittlerweile verloren. Ebenso die Hoffnung, mit friedlichen Protesten etwas daran ändern zu können, dass immer wieder unbewaffnete Schwarze bei der Verhaftung durch Polizisten sterben. Nach dem Tod von George Floyd hatte Newsome sich daher mit einigen ähnlich desillusionierten Aktivisten getroffen und eine neue Strategie entwickelt. Kern davon ist die Bewaffnung.\n",
    "Sogenannte peace officers sollen in schwarzen Wohnvierteln patrouillieren, um die Bewohner vor Polizeigewalt zu beschützen. Newsome nimmt sich ein Beispiel an Malcolm X und den bewaffneten Mitgliedern der Black-Panther-Partei, die in den Sechzigerjahren regelmäßig auf \"cop watch\" gingen. Die ersten Ableger dieser Einheit sollen in Atlanta und in der New Yorker Bronx gegründet werden. Die Miliz hat Newsome \"Black O.P.T.S.\" getauft, eine Anspielung auf den Terminus für verdeckte militärische Operationen und auf das populärste Ego-Shooter-Videospiel (Call of Duty: Black Ops). Bei Newsome steht es für opportunities, Chancen.\n",
    "In der Bronx stehe die Miliz jedoch noch am Anfang, sagt Newsome am Telefon. In New York City ist es nämlich fast unmöglich, einen Waffenschein zu bekommen. Er selbst habe sich gerade um einen beworben, sagt er. Der Prozess ist teuer und kann bis zu ein Jahr dauern. In der Regel braucht man zudem einen sehr guten Grund. In Atlanta, dem Ort für den zweiten Ableger, ist dagegen nichts leichter, als sich eine Waffe zu besorgen. Nahezu jeder über 21 Jahre kann sich im südlichen Bundesstaat Georgia eine Waffe kaufen und offen tragen. Zudem ist es erlaubt, eine Waffe zur Selbstverteidigung einzusetzen. In Atlanta hat der Black-O.P.T.S.-Ableger bereits 100 Mitglieder.\"\"\""
   ]
  },
  {
   "cell_type": "code",
   "execution_count": 20,
   "metadata": {},
   "outputs": [
    {
     "data": {
      "text/plain": [
       "'Am 7. Juni steht der schwarze Aktivist Hawk Newsome auf dem Times Square in New York vor Hunderten von Demonstranten und sagt: \"Wir sind an einem kritischen Punkt der Geschichte. Entweder ihr gebt schwarzen Menschen ihre Rechte, oder wir brennen dieses Land nieder.\"\\nHawk Newsome ist der Präsident von Black Lives Matter of Greater New York. Die ZEIT hat ihn in den letzten Jahren immer wieder getroffen und seine Radikalisierung dokumentiert. Den Glauben, dass der Staat den Schwarzen hilft, hat Newsome mittlerweile verloren. Ebenso die Hoffnung, mit friedlichen Protesten etwas daran ändern zu können, dass immer wieder unbewaffnete Schwarze bei der Verhaftung durch Polizisten sterben. Nach dem Tod von George Floyd hatte Newsome sich daher mit einigen ähnlich desillusionierten Aktivisten getroffen und eine neue Strategie entwickelt. Kern davon ist die Bewaffnung.\\nSogenannte peace officers sollen in schwarzen Wohnvierteln patrouillieren, um die Bewohner vor Polizeigewalt zu beschützen. Newsome nimmt sich ein Beispiel an Malcolm X und den bewaffneten Mitgliedern der Black-Panther-Partei, die in den Sechzigerjahren regelmäßig auf \"cop watch\" gingen. Die ersten Ableger dieser Einheit sollen in Atlanta und in der New Yorker Bronx gegründet werden. Die Miliz hat Newsome \"Black O.P.T.S.\" getauft, eine Anspielung auf den Terminus für verdeckte militärische Operationen und auf das populärste Ego-Shooter-Videospiel (Call of Duty: Black Ops). Bei Newsome steht es für opportunities, Chancen.\\nIn der Bronx stehe die Miliz jedoch noch am Anfang, sagt Newsome am Telefon. In New York City ist es nämlich fast unmöglich, einen Waffenschein zu bekommen. Er selbst habe sich gerade um einen beworben, sagt er. Der Prozess ist teuer und kann bis zu ein Jahr dauern. In der Regel braucht man zudem einen sehr guten Grund. In Atlanta, dem Ort für den zweiten Ableger, ist dagegen nichts leichter, als sich eine Waffe zu besorgen. Nahezu jeder über 21 Jahre kann sich im südlichen Bundesstaat Georgia eine Waffe kaufen und offen tragen. Zudem ist es erlaubt, eine Waffe zur Selbstverteidigung einzusetzen. In Atlanta hat der Black-O.P.T.S.-Ableger bereits 100 Mitglieder.'"
      ]
     },
     "execution_count": 20,
     "metadata": {},
     "output_type": "execute_result"
    }
   ],
   "source": [
    "text"
   ]
  },
  {
   "cell_type": "markdown",
   "metadata": {},
   "source": [
    "2. Wir zerlegen Text in Wörter."
   ]
  },
  {
   "cell_type": "code",
   "execution_count": 2,
   "metadata": {},
   "outputs": [
    {
     "data": {
      "text/plain": [
       "['Am',\n",
       " '7.',\n",
       " 'Juni',\n",
       " 'steht',\n",
       " 'der',\n",
       " 'schwarze',\n",
       " 'Aktivist',\n",
       " 'Hawk',\n",
       " 'Newsome',\n",
       " 'auf',\n",
       " 'dem',\n",
       " 'Times',\n",
       " 'Square',\n",
       " 'in',\n",
       " 'New',\n",
       " 'York',\n",
       " 'vor',\n",
       " 'Hunderten',\n",
       " 'von',\n",
       " 'Demonstranten',\n",
       " 'und',\n",
       " 'sagt:',\n",
       " '\"Wir',\n",
       " 'sind',\n",
       " 'an',\n",
       " 'einem',\n",
       " 'kritischen',\n",
       " 'Punkt',\n",
       " 'der',\n",
       " 'Geschichte.',\n",
       " 'Entweder',\n",
       " 'ihr',\n",
       " 'gebt',\n",
       " 'schwarzen',\n",
       " 'Menschen',\n",
       " 'ihre',\n",
       " 'Rechte,',\n",
       " 'oder',\n",
       " 'wir',\n",
       " 'brennen',\n",
       " 'dieses',\n",
       " 'Land',\n",
       " 'nieder.\"',\n",
       " 'Hawk',\n",
       " 'Newsome',\n",
       " 'ist',\n",
       " 'der',\n",
       " 'Präsident',\n",
       " 'von',\n",
       " 'Black',\n",
       " 'Lives',\n",
       " 'Matter',\n",
       " 'of',\n",
       " 'Greater',\n",
       " 'New',\n",
       " 'York.',\n",
       " 'Die',\n",
       " 'ZEIT',\n",
       " 'hat',\n",
       " 'ihn',\n",
       " 'in',\n",
       " 'den',\n",
       " 'letzten',\n",
       " 'Jahren',\n",
       " 'immer',\n",
       " 'wieder',\n",
       " 'getroffen',\n",
       " 'und',\n",
       " 'seine',\n",
       " 'Radikalisierung',\n",
       " 'dokumentiert.',\n",
       " 'Den',\n",
       " 'Glauben,',\n",
       " 'dass',\n",
       " 'der',\n",
       " 'Staat',\n",
       " 'den',\n",
       " 'Schwarzen',\n",
       " 'hilft,',\n",
       " 'hat',\n",
       " 'Newsome',\n",
       " 'mittlerweile',\n",
       " 'verloren.',\n",
       " 'Ebenso',\n",
       " 'die',\n",
       " 'Hoffnung,',\n",
       " 'mit',\n",
       " 'friedlichen',\n",
       " 'Protesten',\n",
       " 'etwas',\n",
       " 'daran',\n",
       " 'ändern',\n",
       " 'zu',\n",
       " 'können,',\n",
       " 'dass',\n",
       " 'immer',\n",
       " 'wieder',\n",
       " 'unbewaffnete',\n",
       " 'Schwarze',\n",
       " 'bei',\n",
       " 'der',\n",
       " 'Verhaftung',\n",
       " 'durch',\n",
       " 'Polizisten',\n",
       " 'sterben.',\n",
       " 'Nach',\n",
       " 'dem',\n",
       " 'Tod',\n",
       " 'von',\n",
       " 'George',\n",
       " 'Floyd',\n",
       " 'hatte',\n",
       " 'Newsome',\n",
       " 'sich',\n",
       " 'daher',\n",
       " 'mit',\n",
       " 'einigen',\n",
       " 'ähnlich',\n",
       " 'desillusionierten',\n",
       " 'Aktivisten',\n",
       " 'getroffen',\n",
       " 'und',\n",
       " 'eine',\n",
       " 'neue',\n",
       " 'Strategie',\n",
       " 'entwickelt.',\n",
       " 'Kern',\n",
       " 'davon',\n",
       " 'ist',\n",
       " 'die',\n",
       " 'Bewaffnung.',\n",
       " 'Sogenannte',\n",
       " 'peace',\n",
       " 'officers',\n",
       " 'sollen',\n",
       " 'in',\n",
       " 'schwarzen',\n",
       " 'Wohnvierteln',\n",
       " 'patrouillieren,',\n",
       " 'um',\n",
       " 'die',\n",
       " 'Bewohner',\n",
       " 'vor',\n",
       " 'Polizeigewalt',\n",
       " 'zu',\n",
       " 'beschützen.',\n",
       " 'Newsome',\n",
       " 'nimmt',\n",
       " 'sich',\n",
       " 'ein',\n",
       " 'Beispiel',\n",
       " 'an',\n",
       " 'Malcolm',\n",
       " 'X',\n",
       " 'und',\n",
       " 'den',\n",
       " 'bewaffneten',\n",
       " 'Mitgliedern',\n",
       " 'der',\n",
       " 'Black-Panther-Partei,',\n",
       " 'die',\n",
       " 'in',\n",
       " 'den',\n",
       " 'Sechzigerjahren',\n",
       " 'regelmäßig',\n",
       " 'auf',\n",
       " '\"cop',\n",
       " 'watch\"',\n",
       " 'gingen.',\n",
       " 'Die',\n",
       " 'ersten',\n",
       " 'Ableger',\n",
       " 'dieser',\n",
       " 'Einheit',\n",
       " 'sollen',\n",
       " 'in',\n",
       " 'Atlanta',\n",
       " 'und',\n",
       " 'in',\n",
       " 'der',\n",
       " 'New',\n",
       " 'Yorker',\n",
       " 'Bronx',\n",
       " 'gegründet',\n",
       " 'werden.',\n",
       " 'Die',\n",
       " 'Miliz',\n",
       " 'hat',\n",
       " 'Newsome',\n",
       " '\"Black',\n",
       " 'O.P.T.S.\"',\n",
       " 'getauft,',\n",
       " 'eine',\n",
       " 'Anspielung',\n",
       " 'auf',\n",
       " 'den',\n",
       " 'Terminus',\n",
       " 'für',\n",
       " 'verdeckte',\n",
       " 'militärische',\n",
       " 'Operationen',\n",
       " 'und',\n",
       " 'auf',\n",
       " 'das',\n",
       " 'populärste',\n",
       " 'Ego-Shooter-Videospiel',\n",
       " '(Call',\n",
       " 'of',\n",
       " 'Duty:',\n",
       " 'Black',\n",
       " 'Ops).',\n",
       " 'Bei',\n",
       " 'Newsome',\n",
       " 'steht',\n",
       " 'es',\n",
       " 'für',\n",
       " 'opportunities,',\n",
       " 'Chancen.',\n",
       " 'In',\n",
       " 'der',\n",
       " 'Bronx',\n",
       " 'stehe',\n",
       " 'die',\n",
       " 'Miliz',\n",
       " 'jedoch',\n",
       " 'noch',\n",
       " 'am',\n",
       " 'Anfang,',\n",
       " 'sagt',\n",
       " 'Newsome',\n",
       " 'am',\n",
       " 'Telefon.',\n",
       " 'In',\n",
       " 'New',\n",
       " 'York',\n",
       " 'City',\n",
       " 'ist',\n",
       " 'es',\n",
       " 'nämlich',\n",
       " 'fast',\n",
       " 'unmöglich,',\n",
       " 'einen',\n",
       " 'Waffenschein',\n",
       " 'zu',\n",
       " 'bekommen.',\n",
       " 'Er',\n",
       " 'selbst',\n",
       " 'habe',\n",
       " 'sich',\n",
       " 'gerade',\n",
       " 'um',\n",
       " 'einen',\n",
       " 'beworben,',\n",
       " 'sagt',\n",
       " 'er.',\n",
       " 'Der',\n",
       " 'Prozess',\n",
       " 'ist',\n",
       " 'teuer',\n",
       " 'und',\n",
       " 'kann',\n",
       " 'bis',\n",
       " 'zu',\n",
       " 'ein',\n",
       " 'Jahr',\n",
       " 'dauern.',\n",
       " 'In',\n",
       " 'der',\n",
       " 'Regel',\n",
       " 'braucht',\n",
       " 'man',\n",
       " 'zudem',\n",
       " 'einen',\n",
       " 'sehr',\n",
       " 'guten',\n",
       " 'Grund.',\n",
       " 'In',\n",
       " 'Atlanta,',\n",
       " 'dem',\n",
       " 'Ort',\n",
       " 'für',\n",
       " 'den',\n",
       " 'zweiten',\n",
       " 'Ableger,',\n",
       " 'ist',\n",
       " 'dagegen',\n",
       " 'nichts',\n",
       " 'leichter,',\n",
       " 'als',\n",
       " 'sich',\n",
       " 'eine',\n",
       " 'Waffe',\n",
       " 'zu',\n",
       " 'besorgen.',\n",
       " 'Nahezu',\n",
       " 'jeder',\n",
       " 'über',\n",
       " '21',\n",
       " 'Jahre',\n",
       " 'kann',\n",
       " 'sich',\n",
       " 'im',\n",
       " 'südlichen',\n",
       " 'Bundesstaat',\n",
       " 'Georgia',\n",
       " 'eine',\n",
       " 'Waffe',\n",
       " 'kaufen',\n",
       " 'und',\n",
       " 'offen',\n",
       " 'tragen.',\n",
       " 'Zudem',\n",
       " 'ist',\n",
       " 'es',\n",
       " 'erlaubt,',\n",
       " 'eine',\n",
       " 'Waffe',\n",
       " 'zur',\n",
       " 'Selbstverteidigung',\n",
       " 'einzusetzen.',\n",
       " 'In',\n",
       " 'Atlanta',\n",
       " 'hat',\n",
       " 'der',\n",
       " 'Black-O.P.T.S.-Ableger',\n",
       " 'bereits',\n",
       " '100',\n",
       " 'Mitglieder.']"
      ]
     },
     "execution_count": 2,
     "metadata": {},
     "output_type": "execute_result"
    }
   ],
   "source": [
    "#Wir können natürlich üer Whitespace zerlegen, \"zerschneiden\" dabei aber Mehrwortbenennungen wie New York \n",
    "#oder Times Square.\n",
    "\n",
    "text.split()"
   ]
  },
  {
   "cell_type": "markdown",
   "metadata": {},
   "source": [
    "3. Wir finden alle Eigennamen."
   ]
  },
  {
   "cell_type": "code",
   "execution_count": null,
   "metadata": {},
   "outputs": [],
   "source": [
    "#Ideen?\n",
    "#Technisch besteht Named Entity Recognition aus zwei Tasks:\n",
    "#Sequence Labeling: S-O-E\n",
    "#Entity Classification"
   ]
  },
  {
   "cell_type": "markdown",
   "metadata": {},
   "source": [
    "4. Wir setzen Kommas."
   ]
  },
  {
   "cell_type": "code",
   "execution_count": 3,
   "metadata": {},
   "outputs": [],
   "source": [
    "#Erstmal entfernen wir alle Kommas aus dem Text.\n",
    "#Und nun?\n",
    "\n",
    "import re\n",
    "\n",
    "text = re.sub(r',', '', text)"
   ]
  },
  {
   "cell_type": "code",
   "execution_count": 4,
   "metadata": {},
   "outputs": [
    {
     "data": {
      "text/plain": [
       "'Am 7. Juni steht der schwarze Aktivist Hawk Newsome auf dem Times Square in New York vor Hunderten von Demonstranten und sagt: \"Wir sind an einem kritischen Punkt der Geschichte. Entweder ihr gebt schwarzen Menschen ihre Rechte oder wir brennen dieses Land nieder.\"\\nHawk Newsome ist der Präsident von Black Lives Matter of Greater New York. Die ZEIT hat ihn in den letzten Jahren immer wieder getroffen und seine Radikalisierung dokumentiert. Den Glauben dass der Staat den Schwarzen hilft hat Newsome mittlerweile verloren. Ebenso die Hoffnung mit friedlichen Protesten etwas daran ändern zu können dass immer wieder unbewaffnete Schwarze bei der Verhaftung durch Polizisten sterben. Nach dem Tod von George Floyd hatte Newsome sich daher mit einigen ähnlich desillusionierten Aktivisten getroffen und eine neue Strategie entwickelt. Kern davon ist die Bewaffnung.\\nSogenannte peace officers sollen in schwarzen Wohnvierteln patrouillieren um die Bewohner vor Polizeigewalt zu beschützen. Newsome nimmt sich ein Beispiel an Malcolm X und den bewaffneten Mitgliedern der Black-Panther-Partei die in den Sechzigerjahren regelmäßig auf \"cop watch\" gingen. Die ersten Ableger dieser Einheit sollen in Atlanta und in der New Yorker Bronx gegründet werden. Die Miliz hat Newsome \"Black O.P.T.S.\" getauft eine Anspielung auf den Terminus für verdeckte militärische Operationen und auf das populärste Ego-Shooter-Videospiel (Call of Duty: Black Ops). Bei Newsome steht es für opportunities Chancen.\\nIn der Bronx stehe die Miliz jedoch noch am Anfang sagt Newsome am Telefon. In New York City ist es nämlich fast unmöglich einen Waffenschein zu bekommen. Er selbst habe sich gerade um einen beworben sagt er. Der Prozess ist teuer und kann bis zu ein Jahr dauern. In der Regel braucht man zudem einen sehr guten Grund. In Atlanta dem Ort für den zweiten Ableger ist dagegen nichts leichter als sich eine Waffe zu besorgen. Nahezu jeder über 21 Jahre kann sich im südlichen Bundesstaat Georgia eine Waffe kaufen und offen tragen. Zudem ist es erlaubt eine Waffe zur Selbstverteidigung einzusetzen. In Atlanta hat der Black-O.P.T.S.-Ableger bereits 100 Mitglieder.'"
      ]
     },
     "execution_count": 4,
     "metadata": {},
     "output_type": "execute_result"
    }
   ],
   "source": [
    "text"
   ]
  },
  {
   "cell_type": "markdown",
   "metadata": {},
   "source": [
    "# Gut oder schlecht?\n",
    "\n",
    "Jeden Tag schrieben hunderte Kunden ihre Meinung zu unseren Produkten. Dabei den Überblick \n",
    "zu behalten, ist nicht einfach. Wir möchten daher ein kleines Programm schreiben, welches feststellt ob die \n",
    "Kunden positiv oder eher negativ über unsere Produkte sprechen.\n",
    "\n",
    "Dazu bekommen wir eine Liste der Kundenmeinungen. Wir sollen ein kleines Prgramm schreiben, welches eine \n",
    "Eins zurückgibt wenn eine Kundenaussage positiv ist und eine Null zurück gibt, wenn eine Kundenaussage \n",
    "negativ ist. Auf diese Weise können wir am Schluss einfach auszählen wieviel Prozent der Kunden postiv über unsere Produkte sprechen."
   ]
  },
  {
   "cell_type": "code",
   "execution_count": 5,
   "metadata": {},
   "outputs": [],
   "source": [
    "feedback_texte = [\"Das ist ein tolles Produkt.\",\n",
    "                  \"Ich bin super zufrieden!\",\n",
    "                  \"Funktioniert nur sehr schlecht.\",\n",
    "                  \"Ist mir viel zu teuer.\",                                    \n",
    "                  \"Super Produkt, toller service\",\n",
    "                  \"Für die Leistung zu teuer.\",\n",
    "                  \"Ein ein super Produkt.\"\n",
    "                  \"Super Preis, für die Leistung\",\n",
    "                  \"Hab eins für meine Oma gekauft und die ist sehr zufrieden\",\n",
    "                  \"Kunderservice ist ein nur toll.\"]"
   ]
  },
  {
   "cell_type": "code",
   "execution_count": 8,
   "metadata": {},
   "outputs": [
    {
     "name": "stdout",
     "output_type": "stream",
     "text": [
      "1 = Das ist ein tolles Produkt.\n",
      "1 = Ich bin super zufrieden!\n",
      "1 = Funktioniert nur sehr schlecht.\n",
      "1 = Ist mir viel zu teuer.\n",
      "1 = Super Produkt, toller service\n",
      "1 = Für die Leistung zu teuer.\n",
      "1 = Ein ein super Produkt.Super Preis, für die Leistung\n",
      "1 = Hab eins für meine Oma gekauft und die ist sehr zufrieden\n",
      "1 = Kunderservice ist ein nur toll.\n"
     ]
    }
   ],
   "source": [
    "#Eine triviale Lösung. Ist sie gut genug?\n",
    "\n",
    "def sentiment(text):\n",
    "    return 1\n",
    "\n",
    "for text in feedback_texte:\n",
    "    print(f\"{sentiment(text)} = {text}\")"
   ]
  },
  {
   "cell_type": "markdown",
   "metadata": {},
   "source": [
    "## mehr Texte\n",
    "\n",
    "Da unser System so gut funktioniert, bitten uns die Kollegen weitere Texte zu analysieren:"
   ]
  },
  {
   "cell_type": "code",
   "execution_count": null,
   "metadata": {},
   "outputs": [],
   "source": []
  },
  {
   "cell_type": "code",
   "execution_count": 10,
   "metadata": {},
   "outputs": [
    {
     "name": "stdout",
     "output_type": "stream",
     "text": [
      "1 = Das ist ein dolles Produkt.\n",
      "1 = Macht meistens was es soll.\n",
      "1 = Das Produkt ist gar nicht so toll wie ich gedacht hatte.\n",
      "1 = super, schon nach ZWEI tagen kaputt!!!\n",
      "1 = Bester Service der Welt. Nicht.\n",
      "1 = Gute Leistung, der Preis ist aber nicht angemessen.\n",
      "1 = Gar nicht mal so gut.\n",
      "1 = Super Preis, mieser Service.:(\n",
      "1 = 1 nices teil\n"
     ]
    }
   ],
   "source": [
    "#Vielleicht ist die triviale Lösung doch nicht so gut.\n",
    "\n",
    "feedback_texte_advanced = [\"Das ist ein dolles Produkt.\",\n",
    "                  \"Macht meistens was es soll.\",\n",
    "                  \"Das Produkt ist gar nicht so toll wie ich gedacht hatte.\",\n",
    "                  \"super, schon nach ZWEI tagen kaputt!!!\",                                    \n",
    "                  \"Bester Service der Welt. Nicht.\",\n",
    "                  \"Gute Leistung, der Preis ist aber nicht angemessen.\",\n",
    "                  \"Gar nicht mal so gut.\",\n",
    "                  \"Super Preis, mieser Service.\"\n",
    "                  \":(\",\n",
    "                  \"1 nices teil\"]\n",
    "\n",
    "for text in feedback_texte_advanced:\n",
    "    print(f\"{sentiment(text)} = {text}\")"
   ]
  },
  {
   "cell_type": "markdown",
   "metadata": {},
   "source": [
    "## Machine Learning\n",
    "\n",
    "Wir machen eine ganz einfache BOW-NB-Klassifikation.\n",
    "(BOW - bag of words: wir klassifizieren die Texte anhand ihres Vokabulars, ignorieren aber die Reihenfolge der Wörter;\n",
    "NB - Naive Bayes: eine simple, probabilistische Klassifikation)"
   ]
  },
  {
   "cell_type": "code",
   "execution_count": 18,
   "metadata": {},
   "outputs": [],
   "source": [
    "from sklearn.feature_extraction.text import TfidfVectorizer\n",
    "from sklearn.naive_bayes import MultinomialNB"
   ]
  },
  {
   "cell_type": "code",
   "execution_count": 20,
   "metadata": {},
   "outputs": [],
   "source": [
    "#Wir bereiten unsere Testdaten gleich mit vor. Die brauchen wir, \n",
    "#um unser Modell zu validieren.\n",
    "test = [\"Ich bin total zufrieden.\",\n",
    "       \"Mann, ich bin SOWAS VON zufrieden!!!\",\n",
    "       \"Würde ich wieder kaufen.\",\n",
    "       \"Wirklich großer Mist.\",\n",
    "       \"Ist schon kaputt\"]\n",
    "\n",
    "vectorizer = TfidfVectorizer()\n",
    "data = list()\n",
    "data.extend(feedback_texte)\n",
    "data.extend(feedback_texte_advanced)\n",
    "data.extend(test)"
   ]
  },
  {
   "cell_type": "code",
   "execution_count": 22,
   "metadata": {},
   "outputs": [],
   "source": [
    "#Für ML-Experimente müssen wir Text i. d. R. in eine geeignete mathematische Repräsentation bringen.\n",
    "#Hier repräsentieren wir den Datensatz als Matrix von Tfidf-Werten.\n",
    "\n",
    "all_data = vectorizer.fit_transform(data)\n",
    "#Sind die train_labels wirklich korrekt? Wie könnte man die Kundenmeinungen noch einordnen?\n",
    "train_labels = [1,1,0,0,1,0,1,1,1,1,1,0,0,0,0,0,0,1]\n",
    "\n",
    "train_data = all_data[:len(feedback_texte)+len(feedback_texte_advanced)]\n",
    "test_data = all_data[len(feedback_texte)+len(feedback_texte_advanced):]"
   ]
  },
  {
   "cell_type": "code",
   "execution_count": 23,
   "metadata": {},
   "outputs": [],
   "source": [
    "#Wir trainieren ein Modell.\n",
    "\n",
    "#https://scikit-learn.org/stable/modules/generated/sklearn.naive_bayes.MultinomialNB.html\n",
    "nb = MultinomialNB()\n",
    "model = nb.fit(train_data, train_labels)"
   ]
  },
  {
   "cell_type": "code",
   "execution_count": 24,
   "metadata": {},
   "outputs": [],
   "source": [
    "#Wir testen das Modell.\n",
    "\n",
    "predictions = model.predict(test_data)"
   ]
  },
  {
   "cell_type": "code",
   "execution_count": 25,
   "metadata": {},
   "outputs": [
    {
     "name": "stdout",
     "output_type": "stream",
     "text": [
      "Ich bin total zufrieden. 1\n",
      "Mann, ich bin SOWAS VON zufrieden!!! 1\n",
      "Würde ich wieder kaufen. 1\n",
      "Wirklich großer Mist. 1\n",
      "Ist schon kaputt 0\n"
     ]
    }
   ],
   "source": [
    "for text, prediction in zip(test, predictions):\n",
    "    print(text, prediction)"
   ]
  },
  {
   "cell_type": "code",
   "execution_count": null,
   "metadata": {},
   "outputs": [],
   "source": []
  }
 ],
 "metadata": {
  "kernelspec": {
   "display_name": "Python 3",
   "language": "python",
   "name": "python3"
  },
  "language_info": {
   "codemirror_mode": {
    "name": "ipython",
    "version": 3
   },
   "file_extension": ".py",
   "mimetype": "text/x-python",
   "name": "python",
   "nbconvert_exporter": "python",
   "pygments_lexer": "ipython3",
   "version": "3.7.5"
  }
 },
 "nbformat": 4,
 "nbformat_minor": 2
}
